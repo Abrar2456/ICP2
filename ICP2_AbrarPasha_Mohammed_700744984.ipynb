{
 "cells": [
  {
   "cell_type": "code",
   "execution_count": null,
   "id": "8b8ebb63",
   "metadata": {},
   "outputs": [],
   "source": [
    "def full_name(first_name, last_name):\n",
    "    full_name = first_name + \" \" + last_name\n",
    "    return full_name\n",
    "if __name__=='__main__':\n",
    "    first_name=input(\"Enter your first name:\\n\")\n",
    "    last_name=input(\"Enter your last name:\\n\")\n",
    "    full_name=full_name(first_name,last_name)\n",
    "    print(full_name)\n"
   ]
  },
  {
   "cell_type": "code",
   "execution_count": null,
   "id": "eb7271d3",
   "metadata": {},
   "outputs": [],
   "source": [
    "def string_alternative(name):\n",
    "    output=''\n",
    "    for i in range(0,len(name)):\n",
    "        if(i%2==0):\n",
    "            output=output+name[i]\n",
    "    return output\n",
    "if __name__=='__main__':\n",
    "    print(string_alternative(\"Abrar Pasha Mohammed\"))"
   ]
  },
  {
   "cell_type": "code",
   "execution_count": null,
   "id": "580d0531",
   "metadata": {},
   "outputs": [],
   "source": [
    "with open('input_file.txt','r') as ipf:\n",
    "    line=ipf.read()\n",
    "    word=line.split()\n",
    "    check=[]\n",
    "    with open('output_file.txt','w') as opf:\n",
    "        for i in word:\n",
    "            if i not in check:\n",
    "                check.append(i)\n",
    "                opf.write(i+':'+str(word.count(i))+'\\n')      \n",
    "opf=open('output_file.txt','r')\n",
    "print(opf.read())\n"
   ]
  },
  {
   "cell_type": "code",
   "execution_count": null,
   "id": "647bcec0",
   "metadata": {},
   "outputs": [],
   "source": [
    "def convert_heights_nested_loop():\n",
    "    num_customers = int(input(\"Enter the number of customers: \"))\n",
    "    \n",
    "    #Nested Interactive Loop\n",
    "    heights_inches = [float(input(f\"Enter height (in inches) for customer {i + 1}: \")) for i in range(num_customers)]\n",
    "    heights_centimeters=[]\n",
    "    #List Comprehension\n",
    "    for height in heights_inches:\n",
    "        heights_centimeters.append(height*2.54)\n",
    "    return heights_inches, heights_centimeters\n",
    "\n",
    "if __name__ == \"__main__\":\n",
    "    nested_loop_result = convert_heights_nested_loop()\n",
    "    print(\"\\nHeights in Inches:\", nested_loop_result[0])\n",
    "    print(\"Heights in Centimeters:\", nested_loop_result[1])"
   ]
  }
 ],
 "metadata": {
  "kernelspec": {
   "display_name": "Python 3 (ipykernel)",
   "language": "python",
   "name": "python3"
  },
  "language_info": {
   "codemirror_mode": {
    "name": "ipython",
    "version": 3
   },
   "file_extension": ".py",
   "mimetype": "text/x-python",
   "name": "python",
   "nbconvert_exporter": "python",
   "pygments_lexer": "ipython3",
   "version": "3.10.9"
  }
 },
 "nbformat": 4,
 "nbformat_minor": 5
}
